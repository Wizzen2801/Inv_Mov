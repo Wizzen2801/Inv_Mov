{
 "cells": [
  {
   "cell_type": "code",
   "execution_count": 9,
   "metadata": {},
   "outputs": [],
   "source": [
    "import pandas as pd\n",
    "from pandas import DataFrame\n",
    "import sys\n",
    "import numpy as np\n",
    "from openpyxl import load_workbook\n",
    "\n",
    "input_file = 'C:/Python_SHL/Test/OUT1.xlsx'\n",
    "df1 = pd.read_excel(input_file)\n",
    "df2 = pd.read_excel('C:/Python_SHL/Test/Code_Master.xlsx')\n",
    "\n",
    "# df1 의 Product_Code 와 df2의 Product_Code 가 같으면 df1 에 Product_Name 을 추가하여 df2 의  Product_Name 을 매칭함\n",
    "df = df1.join(df2.set_index('Product_Code')['Master_Price'], on='Product_Code')\n",
    "output_file = 'C:/Python_SHL/Test/OUT_Temp.xlsx'\n",
    "df.to_excel(output_file, index = 0)\n",
    "\n",
    "wb = load_workbook(output_file)\n",
    "ws = wb.active\n",
    "\n",
    "for r in ws.rows:\n",
    "    row_index = r[0].row\n",
    "    ws.cell(row=row_index, column=4).value = \"=B\"+str(row_index)+\"*C\"+str(row_index)+''\n",
    "    ws['D1'] ='OUT_Amt'\n",
    "   \n",
    "output_final = 'C:/Python_SHL/Test/OUT_Final.xlsx'\n",
    "wb.save(output_final)\n"
   ]
  },
  {
   "cell_type": "code",
   "execution_count": null,
   "metadata": {},
   "outputs": [],
   "source": []
  }
 ],
 "metadata": {
  "kernelspec": {
   "display_name": "Python 3",
   "language": "python",
   "name": "python3"
  },
  "language_info": {
   "codemirror_mode": {
    "name": "ipython",
    "version": 3
   },
   "file_extension": ".py",
   "mimetype": "text/x-python",
   "name": "python",
   "nbconvert_exporter": "python",
   "pygments_lexer": "ipython3",
   "version": "3.8.5"
  }
 },
 "nbformat": 4,
 "nbformat_minor": 4
}
