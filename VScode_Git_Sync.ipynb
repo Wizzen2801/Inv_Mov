{
 "metadata": {
  "language_info": {
   "codemirror_mode": {
    "name": "ipython",
    "version": 3
   },
   "file_extension": ".py",
   "mimetype": "text/x-python",
   "name": "python",
   "nbconvert_exporter": "python",
   "pygments_lexer": "ipython3",
   "version": "3.8.6-final"
  },
  "orig_nbformat": 2,
  "kernelspec": {
   "name": "python386jvsc74a57bd02db524e06e9f5f4ffedc911c917cb75e12dbc923643829bf417064a77eb14d37",
   "display_name": "Python 3.8.6 32-bit"
  },
  "metadata": {
   "interpreter": {
    "hash": "2db524e06e9f5f4ffedc911c917cb75e12dbc923643829bf417064a77eb14d37"
   }
  }
 },
 "nbformat": 4,
 "nbformat_minor": 2,
 "cells": [
  {
   "source": [
    "# VSCode와 Github 연동하는 방법"
   ],
   "cell_type": "markdown",
   "metadata": {}
  },
  {
   "source": [
    "### (1) Github에 업로드할 폴더로 이동후 새로운 파일을 만든다."
   ],
   "cell_type": "markdown",
   "metadata": {}
  },
  {
   "source": [
    "### (2) Git 을 설치하면 왼쪽 위에서 3번째 아이콘을 클릭하면 왼쪽 상단 더보기 버튼을 클릭하면 pull, push 명령어가 보인다."
   ],
   "cell_type": "markdown",
   "metadata": {}
  },
  {
   "source": [
    "### (3) 새로운 파일 생성후 왼쪽 상단 체크마크를 클릭 - commit 이라 함"
   ],
   "cell_type": "markdown",
   "metadata": {}
  },
  {
   "source": [
    "### (4) 수정하면"
   ],
   "cell_type": "markdown",
   "metadata": {}
  }
 ]
}