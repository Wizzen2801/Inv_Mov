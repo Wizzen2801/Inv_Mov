{
 "cells": [
  {
   "cell_type": "markdown",
   "metadata": {},
   "source": [
    "# <font color=#fcfc07>이 프로그램은 기초, 입고, 출고, 재고등의 별도의 파일을 통합시켜 재고수불부를 생성시키는 프로그램입니다."
   ]
  },
  {
   "cell_type": "code",
   "execution_count": 1,
   "metadata": {},
   "outputs": [],
   "source": [
    "import pandas as pd\n",
    "from pandas import DataFrame\n",
    "import sys\n",
    "import numpy as np\n",
    "from openpyxl import load_workbook\n",
    "\n",
    "# 아래와 같은 컬럼명이 있는 파일 생성\n",
    "df = DataFrame(columns = ['Product_Code', 'Product_Name', 'BOH_Qty', 'BOH_Amt', 'IN_Qty', 'IN_Amt', 'OUT_Qty', 'OUT_Amt', 'Sales_Gift_Qty', 'Sales_Gift_Amt', 'Sample_Qty', 'Sample_Amt', 'Warranty_Qty', 'Warranty_Amt', 'EOH_Qty', 'EOH_Amt'])\n",
    "df.to_excel('C:/Python_WZN/Test/INV_MOV.xlsx', index=False)\n",
    "\n",
    "# 아래 파일들을 모두 합쳐서 INV_MOV_Total.xlsx 로 생성\n",
    "excel_names = ['c:/Python_WZN/Test/INV_MOV.xlsx', 'c:/Python_SHL/Test/BOH.xlsx', 'c:/Python_SHL/Test/IN.xlsx', 'c:/Python_SHL/Test/OUT.xlsx', 'c:/Python_SHL/Test/Sales_Gift.xlsx', 'c:/Python_SHL/Test/Sample.xlsx', 'c:/Python_SHL/Test/Warranty.xlsx', 'c:/Python_SHL/Test/EOH.xlsx']\n",
    "\n",
    "excels = [pd.ExcelFile(name) for name in excel_names] \n",
    "\n",
    "frames = [x.parse(x.sheet_names[0], header=None,index_col=None) for x in excels]  \n",
    "frames[1:] = [df[1:] for df in frames[1:]]  \n",
    "combined = pd.concat(frames)\n",
    "\n",
    "combined.to_excel('C:/Python_WZN/Test/INV_MOV_Total.xlsx', header=False, index=False)\n",
    "\n",
    "# 생성된 파일을 Pivot 테이블로 변환\n",
    "df = pd.read_excel('C:/Python_WZN/Test/INV_MOV_Total.xlsx')\n",
    "\n",
    "df = df.pivot_table(index = ['Product_Code'], aggfunc = {'BOH_Qty':sum, 'BOH_Amt':sum, 'IN_Qty':sum, 'IN_Amt':sum, 'OUT_Qty':sum, 'OUT_Amt':sum, 'Sales_Gift_Qty':sum, 'Sales_Gift_Amt':sum, 'Sample_Qty':sum, 'Sample_Amt':sum, 'Warranty_Qty':sum, 'Warranty_Amt':sum, 'EOH_Qty':sum, 'EOH_Amt':sum})\n",
    "\n",
    "# 제품명을 코드 마스터 테이블에서 가져와 매칭함\n",
    "df2 = pd.read_excel('C:/Python_WZN/Test/Code_Master.xlsx')\n",
    "df = df.join(df2.set_index('Product_Code')['Product_Name'], on='Product_Code')\n",
    "\n",
    "\n",
    "# 피벗테이블로 변환시 칼럼 위치가 변경된 것을 다시 순서를 바로잡음\n",
    "df = df.reindex(columns=['Product_Name', 'BOH_Qty','BOH_Amt','IN_Qty','IN_Amt', 'OUT_Qty', 'OUT_Amt', 'Sales_Gift_Qty', 'Sales_Gift_Amt', 'Sample_Qty', 'Sample_Amt', 'Warranty_Qty', 'Warranty_Amt', 'EOH_Qty', 'EOH_Amt'])\n",
    "df.to_excel('C:/Python_WZN/Test/INV_MOV_Pivot.xlsx')\n",
    "\n",
    "wb = load_workbook('C:/Python_WZN/Test/INV_MOV_Pivot.xlsx')\n",
    "ws = wb.active\n",
    "\n",
    "# Adjust_Qty, Amt 항목에 수식을 넣음\n",
    "for r in ws.rows:\n",
    "    row_index = r[0].row\n",
    "    ws.cell(row=row_index, column=17).value = \"=C\"+str(row_index)+\"+E\"+str(row_index)+\"-G\"+str(row_index)+\"-I\"+str(row_index)+\"-K\"+str(row_index)+\"-M\"+str(row_index)+\"-O\"+str(row_index)+''\n",
    "    ws['Q1'] ='Adjust_Qty'\n",
    "    ws.cell(row=row_index, column=18).value = \"=D\"+str(row_index)+\"+F\"+str(row_index)+\"-H\"+str(row_index)+\"-J\"+str(row_index)+\"-L\"+str(row_index)+\"-N\"+str(row_index)+\"-P\"+str(row_index)+''\n",
    "    ws['R1'] ='Adjust_Amt'\n",
    "   \n",
    "    wb.save('C:/Python_WZN/Test/INV_MOV_Final.xlsx')\n"
   ]
  },
  {
   "cell_type": "code",
   "execution_count": null,
   "metadata": {},
   "outputs": [],
   "source": []
  }
 ],
 "metadata": {
  "kernelspec": {
   "display_name": "Python 3",
   "language": "python",
   "name": "python3"
  },
  "language_info": {
   "codemirror_mode": {
    "name": "ipython",
    "version": 3
   },
   "file_extension": ".py",
   "mimetype": "text/x-python",
   "name": "python",
   "nbconvert_exporter": "python",
   "pygments_lexer": "ipython3",
   "version": "3.8.5"
  }
 },
 "nbformat": 4,
 "nbformat_minor": 4
}
