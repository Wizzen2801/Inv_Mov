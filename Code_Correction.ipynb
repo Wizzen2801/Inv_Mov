{
 "cells": [
  {
   "cell_type": "markdown",
   "metadata": {},
   "source": [
    "이 프로그램은 재고수불부 작성을 위한 기초, 입고, 출고, 재고파일등에 잘못된 제품코드를 찾아서 수정하는 용도로 만들어졌습니다."
   ]
  },
  {
   "cell_type": "code",
   "execution_count": 2,
   "metadata": {},
   "outputs": [],
   "source": [
    "import pandas as pd\n",
    "from pandas import DataFrame\n",
    "import sys\n",
    "import numpy as np\n",
    "from openpyxl import load_workbook"
   ]
  },
  {
   "cell_type": "markdown",
   "metadata": {},
   "source": [
    "1. 검증할 파일명 입력"
   ]
  },
  {
   "cell_type": "code",
   "execution_count": 3,
   "metadata": {},
   "outputs": [],
   "source": [
    "input_file = 'C:/Python_SHL/Test/BOH1.xlsx'"
   ]
  },
  {
   "cell_type": "markdown",
   "metadata": {},
   "source": [
    " *** 반드시 Product_Name 이 없는 파일을 사용해야 함"
   ]
  },
  {
   "cell_type": "code",
   "execution_count": 4,
   "metadata": {},
   "outputs": [
    {
     "data": {
      "text/html": [
       "<div>\n",
       "<style scoped>\n",
       "    .dataframe tbody tr th:only-of-type {\n",
       "        vertical-align: middle;\n",
       "    }\n",
       "\n",
       "    .dataframe tbody tr th {\n",
       "        vertical-align: top;\n",
       "    }\n",
       "\n",
       "    .dataframe thead th {\n",
       "        text-align: right;\n",
       "    }\n",
       "</style>\n",
       "<table border=\"1\" class=\"dataframe\">\n",
       "  <thead>\n",
       "    <tr style=\"text-align: right;\">\n",
       "      <th></th>\n",
       "      <th>Product_Code</th>\n",
       "      <th>BOH_Qty</th>\n",
       "      <th>BOH_Amt</th>\n",
       "      <th>IN_Qty</th>\n",
       "      <th>IN_Amt</th>\n",
       "      <th>OUT_Qty</th>\n",
       "      <th>OUT_Amt</th>\n",
       "      <th>Sales_Gift_Qty</th>\n",
       "      <th>Sales_Gift_Amt</th>\n",
       "      <th>Sample_Qty</th>\n",
       "      <th>Sample_Amt</th>\n",
       "      <th>Warranty_Qty</th>\n",
       "      <th>Warranty_Amt</th>\n",
       "      <th>EOH_Qty</th>\n",
       "      <th>EOH_Amt</th>\n",
       "      <th>Product_Name</th>\n",
       "    </tr>\n",
       "  </thead>\n",
       "  <tbody>\n",
       "    <tr>\n",
       "      <th>99</th>\n",
       "      <td>KLAMET150B40001</td>\n",
       "      <td>1</td>\n",
       "      <td>2.0</td>\n",
       "      <td>NaN</td>\n",
       "      <td>NaN</td>\n",
       "      <td>NaN</td>\n",
       "      <td>NaN</td>\n",
       "      <td>NaN</td>\n",
       "      <td>NaN</td>\n",
       "      <td>NaN</td>\n",
       "      <td>NaN</td>\n",
       "      <td>NaN</td>\n",
       "      <td>NaN</td>\n",
       "      <td>NaN</td>\n",
       "      <td>NaN</td>\n",
       "      <td>NaN</td>\n",
       "    </tr>\n",
       "  </tbody>\n",
       "</table>\n",
       "</div>"
      ],
      "text/plain": [
       "       Product_Code  BOH_Qty  BOH_Amt  IN_Qty  IN_Amt  OUT_Qty  OUT_Amt  \\\n",
       "99  KLAMET150B40001        1      2.0     NaN     NaN      NaN      NaN   \n",
       "\n",
       "    Sales_Gift_Qty  Sales_Gift_Amt  Sample_Qty  Sample_Amt  Warranty_Qty  \\\n",
       "99             NaN             NaN         NaN         NaN           NaN   \n",
       "\n",
       "    Warranty_Amt  EOH_Qty  EOH_Amt Product_Name  \n",
       "99           NaN      NaN      NaN          NaN  "
      ]
     },
     "execution_count": 4,
     "metadata": {},
     "output_type": "execute_result"
    }
   ],
   "source": [
    "df1 = pd.read_excel(input_file)\n",
    "df2 = pd.read_excel('C:/Python_SHL/Test/Code_Master.xlsx')\n",
    "\n",
    "# df1 의 Product_Code 와 df2의 Product_Code 가 같으면 df1 에 Product_Name 을 추가하여 df2 의  Product_Name 을 매칭함\n",
    "df = df1.join(df2.set_index('Product_Code')['Product_Name'], on='Product_Code')\n",
    "\n",
    "df[df['Product_Name'].isnull()] # 공백이 있는 셀 찾기"
   ]
  },
  {
   "cell_type": "markdown",
   "metadata": {},
   "source": [
    "2. 찾아낸 행의 제품코드를 찾아서 이와 유사한 제품코드를 필터링 함"
   ]
  },
  {
   "cell_type": "code",
   "execution_count": 5,
   "metadata": {},
   "outputs": [
    {
     "data": {
      "text/html": [
       "<div>\n",
       "<style scoped>\n",
       "    .dataframe tbody tr th:only-of-type {\n",
       "        vertical-align: middle;\n",
       "    }\n",
       "\n",
       "    .dataframe tbody tr th {\n",
       "        vertical-align: top;\n",
       "    }\n",
       "\n",
       "    .dataframe thead th {\n",
       "        text-align: right;\n",
       "    }\n",
       "</style>\n",
       "<table border=\"1\" class=\"dataframe\">\n",
       "  <thead>\n",
       "    <tr style=\"text-align: right;\">\n",
       "      <th></th>\n",
       "      <th>Product_Code</th>\n",
       "      <th>BOH_Qty</th>\n",
       "      <th>BOH_Amt</th>\n",
       "      <th>IN_Qty</th>\n",
       "      <th>IN_Amt</th>\n",
       "      <th>OUT_Qty</th>\n",
       "      <th>OUT_Amt</th>\n",
       "      <th>Sales_Gift_Qty</th>\n",
       "      <th>Sales_Gift_Amt</th>\n",
       "      <th>Sample_Qty</th>\n",
       "      <th>Sample_Amt</th>\n",
       "      <th>Warranty_Qty</th>\n",
       "      <th>Warranty_Amt</th>\n",
       "      <th>EOH_Qty</th>\n",
       "      <th>EOH_Amt</th>\n",
       "      <th>Product_Name</th>\n",
       "    </tr>\n",
       "  </thead>\n",
       "  <tbody>\n",
       "    <tr>\n",
       "      <th>98</th>\n",
       "      <td>KLAMET150B40002</td>\n",
       "      <td>2</td>\n",
       "      <td>340.0</td>\n",
       "      <td>NaN</td>\n",
       "      <td>NaN</td>\n",
       "      <td>NaN</td>\n",
       "      <td>NaN</td>\n",
       "      <td>NaN</td>\n",
       "      <td>NaN</td>\n",
       "      <td>NaN</td>\n",
       "      <td>NaN</td>\n",
       "      <td>NaN</td>\n",
       "      <td>NaN</td>\n",
       "      <td>NaN</td>\n",
       "      <td>NaN</td>\n",
       "      <td>MT150-B3S40NG1S</td>\n",
       "    </tr>\n",
       "    <tr>\n",
       "      <th>99</th>\n",
       "      <td>KLAMET150B40001</td>\n",
       "      <td>1</td>\n",
       "      <td>2.0</td>\n",
       "      <td>NaN</td>\n",
       "      <td>NaN</td>\n",
       "      <td>NaN</td>\n",
       "      <td>NaN</td>\n",
       "      <td>NaN</td>\n",
       "      <td>NaN</td>\n",
       "      <td>NaN</td>\n",
       "      <td>NaN</td>\n",
       "      <td>NaN</td>\n",
       "      <td>NaN</td>\n",
       "      <td>NaN</td>\n",
       "      <td>NaN</td>\n",
       "      <td>NaN</td>\n",
       "    </tr>\n",
       "  </tbody>\n",
       "</table>\n",
       "</div>"
      ],
      "text/plain": [
       "       Product_Code  BOH_Qty  BOH_Amt  IN_Qty  IN_Amt  OUT_Qty  OUT_Amt  \\\n",
       "98  KLAMET150B40002        2    340.0     NaN     NaN      NaN      NaN   \n",
       "99  KLAMET150B40001        1      2.0     NaN     NaN      NaN      NaN   \n",
       "\n",
       "    Sales_Gift_Qty  Sales_Gift_Amt  Sample_Qty  Sample_Amt  Warranty_Qty  \\\n",
       "98             NaN             NaN         NaN         NaN           NaN   \n",
       "99             NaN             NaN         NaN         NaN           NaN   \n",
       "\n",
       "    Warranty_Amt  EOH_Qty  EOH_Amt     Product_Name  \n",
       "98           NaN      NaN      NaN  MT150-B3S40NG1S  \n",
       "99           NaN      NaN      NaN              NaN  "
      ]
     },
     "execution_count": 5,
     "metadata": {},
     "output_type": "execute_result"
    }
   ],
   "source": [
    "filter_code = 'KLAMET150B4'\n",
    "df[df['Product_Code'].str.startswith(filter_code)]"
   ]
  },
  {
   "cell_type": "markdown",
   "metadata": {},
   "source": [
    "3. 잘못된 제품코드를 정확한 제품코드로 변경 - 특정한 제품 1개일때"
   ]
  },
  {
   "cell_type": "code",
   "execution_count": 6,
   "metadata": {},
   "outputs": [],
   "source": [
    "Rev_Code = 'KLAMET150B40002'\n",
    "df.loc[(df['Product_Name'].isnull()), 'Product_Code'] = Rev_Code"
   ]
  },
  {
   "cell_type": "markdown",
   "metadata": {},
   "source": [
    " *** 여러개의 제품코드를 변경시 특정 제품코드를 건별로 처리해야 하므로 아래 명령 실행"
   ]
  },
  {
   "cell_type": "code",
   "execution_count": 59,
   "metadata": {},
   "outputs": [],
   "source": [
    "Rev_Code1 = 'WP050-B50MBNG1S'\n",
    "df.loc[(df['Product_Name'] == 'WP050-B50MBNG10'), 'Product_Code'] = Rev_Code1"
   ]
  },
  {
   "cell_type": "markdown",
   "metadata": {},
   "source": [
    "4. 잘못된 제품코드를 정확한 제품코드로 변경 - 다수의 제품일때"
   ]
  },
  {
   "cell_type": "code",
   "execution_count": 7,
   "metadata": {},
   "outputs": [
    {
     "data": {
      "text/html": [
       "<div>\n",
       "<style scoped>\n",
       "    .dataframe tbody tr th:only-of-type {\n",
       "        vertical-align: middle;\n",
       "    }\n",
       "\n",
       "    .dataframe tbody tr th {\n",
       "        vertical-align: top;\n",
       "    }\n",
       "\n",
       "    .dataframe thead th {\n",
       "        text-align: right;\n",
       "    }\n",
       "</style>\n",
       "<table border=\"1\" class=\"dataframe\">\n",
       "  <thead>\n",
       "    <tr style=\"text-align: right;\">\n",
       "      <th></th>\n",
       "      <th>Product_Code</th>\n",
       "      <th>BOH_Qty</th>\n",
       "      <th>BOH_Amt</th>\n",
       "      <th>IN_Qty</th>\n",
       "      <th>IN_Amt</th>\n",
       "      <th>OUT_Qty</th>\n",
       "      <th>OUT_Amt</th>\n",
       "      <th>Sales_Gift_Qty</th>\n",
       "      <th>Sales_Gift_Amt</th>\n",
       "      <th>Sample_Qty</th>\n",
       "      <th>Sample_Amt</th>\n",
       "      <th>Warranty_Qty</th>\n",
       "      <th>Warranty_Amt</th>\n",
       "      <th>EOH_Qty</th>\n",
       "      <th>EOH_Amt</th>\n",
       "      <th>Product_Name</th>\n",
       "    </tr>\n",
       "  </thead>\n",
       "  <tbody>\n",
       "    <tr>\n",
       "      <th>99</th>\n",
       "      <td>KLAMET150B40002</td>\n",
       "      <td>1</td>\n",
       "      <td>2.0</td>\n",
       "      <td>NaN</td>\n",
       "      <td>NaN</td>\n",
       "      <td>NaN</td>\n",
       "      <td>NaN</td>\n",
       "      <td>NaN</td>\n",
       "      <td>NaN</td>\n",
       "      <td>NaN</td>\n",
       "      <td>NaN</td>\n",
       "      <td>NaN</td>\n",
       "      <td>NaN</td>\n",
       "      <td>NaN</td>\n",
       "      <td>NaN</td>\n",
       "      <td>NaN</td>\n",
       "    </tr>\n",
       "  </tbody>\n",
       "</table>\n",
       "</div>"
      ],
      "text/plain": [
       "       Product_Code  BOH_Qty  BOH_Amt  IN_Qty  IN_Amt  OUT_Qty  OUT_Amt  \\\n",
       "99  KLAMET150B40002        1      2.0     NaN     NaN      NaN      NaN   \n",
       "\n",
       "    Sales_Gift_Qty  Sales_Gift_Amt  Sample_Qty  Sample_Amt  Warranty_Qty  \\\n",
       "99             NaN             NaN         NaN         NaN           NaN   \n",
       "\n",
       "    Warranty_Amt  EOH_Qty  EOH_Amt Product_Name  \n",
       "99           NaN      NaN      NaN          NaN  "
      ]
     },
     "execution_count": 7,
     "metadata": {},
     "output_type": "execute_result"
    }
   ],
   "source": [
    "find_code1 = df['Product_Code'] == 'KLAMET150B40002'\n",
    "find_code2 = df['Product_Name'].isnull()\n",
    "df[find_code1 & find_code2]"
   ]
  },
  {
   "cell_type": "markdown",
   "metadata": {},
   "source": [
    "5. 제품명의 열을 삭제하고 정확한 제품코드가 입력이 된 파일로 저장"
   ]
  },
  {
   "cell_type": "code",
   "execution_count": 35,
   "metadata": {},
   "outputs": [],
   "source": [
    "df_drop = df.drop('Product_Name', axis = 1)\n",
    "output_file = 'C:/Python_SHL/Test/BOH_Rev.xlsx'\n",
    "df_drop.to_excel(output_file, index = 0)"
   ]
  },
  {
   "cell_type": "code",
   "execution_count": null,
   "metadata": {},
   "outputs": [],
   "source": []
  }
 ],
 "metadata": {
  "kernelspec": {
   "display_name": "Python 3",
   "language": "python",
   "name": "python3"
  },
  "language_info": {
   "codemirror_mode": {
    "name": "ipython",
    "version": 3
   },
   "file_extension": ".py",
   "mimetype": "text/x-python",
   "name": "python",
   "nbconvert_exporter": "python",
   "pygments_lexer": "ipython3",
   "version": "3.8.5"
  }
 },
 "nbformat": 4,
 "nbformat_minor": 4
}
